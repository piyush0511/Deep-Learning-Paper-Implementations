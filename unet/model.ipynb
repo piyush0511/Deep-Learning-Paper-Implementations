{
 "cells": [
  {
   "cell_type": "code",
   "execution_count": 2,
   "metadata": {
    "colab": {},
    "colab_type": "code",
    "id": "BRyCb-KM5Ztm"
   },
   "outputs": [],
   "source": [
    "import os\n",
    "import tensorflow as tf\n",
    "from tensorflow.keras import layers\n",
    "from tensorflow.keras import Model\n",
    "import numpy as np"
   ]
  },
  {
   "cell_type": "code",
   "execution_count": 3,
   "metadata": {
    "colab": {},
    "colab_type": "code",
    "id": "VLFYJ_ge6eiA"
   },
   "outputs": [],
   "source": [
    "def crop_image(in_image,out_image):\n",
    "\n",
    "    input_shape = in_image.shape[2]\n",
    "\n",
    "    out_shape = out_image.shape[2]\n",
    "\n",
    "    delta = (input_shape - out_shape)//2\n",
    "    \n",
    "    return in_image[:,delta:input_shape-delta,delta:input_shape-delta,:]"
   ]
  },
  {
   "cell_type": "code",
   "execution_count": 4,
   "metadata": {
    "colab": {},
    "colab_type": "code",
    "id": "Gtx9D1_I6gsp"
   },
   "outputs": [],
   "source": [
    "def down_conv(a):\n",
    "\n",
    "    model = tf.keras.models.Sequential([\n",
    "                                        \n",
    "    # This is the first convolution\n",
    "    tf.keras.layers.Conv2D(a, (3,3)),\n",
    "\n",
    "    # The second convolution\n",
    "    tf.keras.layers.Conv2D(a, (3,3), activation='relu'),\n",
    "    \n",
    "    tf.keras.layers.Dropout(0.1)]\n",
    "    )\n",
    "    return model"
   ]
  },
  {
   "cell_type": "code",
   "execution_count": 5,
   "metadata": {
    "colab": {},
    "colab_type": "code",
    "id": "qsMgxYM1_6zM"
   },
   "outputs": [],
   "source": [
    "def up_conv(f,a,b):  #f = filters, a = inputblock b = residual block\n",
    "\n",
    "    x = tf.keras.layers.Conv2DTranspose(f, (3,3), strides= (2,2), padding = \"same\")(a)\n",
    "\n",
    "    y = crop_image(b,x)\n",
    "\n",
    "    x = tf.keras.layers.Concatenate(axis=3)([x, y])\n",
    "\n",
    "    x = down_conv(f)(x)\n",
    "    \n",
    "    return x"
   ]
  },
  {
   "cell_type": "code",
   "execution_count": 6,
   "metadata": {
    "colab": {},
    "colab_type": "code",
    "id": "UvZSaCMj6jU_"
   },
   "outputs": [],
   "source": [
    "def Unet():\n",
    "\n",
    "  img_inputs = tf.keras.Input(shape=(572, 572, 3))\n",
    "\n",
    "  #Down Convolution\n",
    "  x1 = down_conv(64)(img_inputs)\n",
    "\n",
    "  x2 = tf.keras.layers.MaxPooling2D(2,2)(x1)\n",
    "\n",
    "  x3 = down_conv(128)(x2)\n",
    "\n",
    "  x4 = tf.keras.layers.MaxPooling2D(2,2)(x3)\n",
    "\n",
    "  x5 = down_conv(256)(x4)\n",
    "\n",
    "  x6 = tf.keras.layers.MaxPooling2D(2,2)(x5)\n",
    "\n",
    "  x7 = down_conv(512)(x6)\n",
    "\n",
    "  x8 = tf.keras.layers.MaxPooling2D(2,2)(x7)\n",
    "\n",
    "  x9 = down_conv(1024)(x8)\n",
    "\n",
    "  #Up convolution\n",
    "  x = up_conv(512,x9,x7) \n",
    "\n",
    "  x = up_conv(256,x,x5)\n",
    "\n",
    "  x = up_conv(128,x,x3)\n",
    "\n",
    "  x = up_conv(64,x,x1)\n",
    "\n",
    "  output = tf.keras.layers.Conv2D(3, (1,1), activation='sigmoid')(x)\n",
    "\n",
    "  model = tf.keras.Model(inputs=img_inputs, outputs=output, name=\"Unet\")\n",
    "\n",
    "  model.compile(optimizer='adam', loss=tf.keras.losses.MeanSquaredError())\n",
    "\n",
    "  return model"
   ]
  },
  {
   "cell_type": "code",
   "execution_count": 7,
   "metadata": {
    "colab": {},
    "colab_type": "code",
    "id": "sF9yRmZs6mXL"
   },
   "outputs": [],
   "source": [
    "model = Unet()"
   ]
  },
  {
   "cell_type": "code",
   "execution_count": 8,
   "metadata": {
    "colab": {},
    "colab_type": "code",
    "id": "Q-fUo2SR8Eet"
   },
   "outputs": [
    {
     "name": "stdout",
     "output_type": "stream",
     "text": [
      "Model: \"Unet\"\n",
      "__________________________________________________________________________________________________\n",
      "Layer (type)                    Output Shape         Param #     Connected to                     \n",
      "==================================================================================================\n",
      "input_1 (InputLayer)            [(None, 572, 572, 3) 0                                            \n",
      "__________________________________________________________________________________________________\n",
      "sequential (Sequential)         (None, 568, 568, 64) 38720       input_1[0][0]                    \n",
      "__________________________________________________________________________________________________\n",
      "max_pooling2d (MaxPooling2D)    (None, 284, 284, 64) 0           sequential[0][0]                 \n",
      "__________________________________________________________________________________________________\n",
      "sequential_1 (Sequential)       (None, 280, 280, 128 221440      max_pooling2d[0][0]              \n",
      "__________________________________________________________________________________________________\n",
      "max_pooling2d_1 (MaxPooling2D)  (None, 140, 140, 128 0           sequential_1[0][0]               \n",
      "__________________________________________________________________________________________________\n",
      "sequential_2 (Sequential)       (None, 136, 136, 256 885248      max_pooling2d_1[0][0]            \n",
      "__________________________________________________________________________________________________\n",
      "max_pooling2d_2 (MaxPooling2D)  (None, 68, 68, 256)  0           sequential_2[0][0]               \n",
      "__________________________________________________________________________________________________\n",
      "sequential_3 (Sequential)       (None, 64, 64, 512)  3539968     max_pooling2d_2[0][0]            \n",
      "__________________________________________________________________________________________________\n",
      "max_pooling2d_3 (MaxPooling2D)  (None, 32, 32, 512)  0           sequential_3[0][0]               \n",
      "__________________________________________________________________________________________________\n",
      "sequential_4 (Sequential)       (None, 28, 28, 1024) 14157824    max_pooling2d_3[0][0]            \n",
      "__________________________________________________________________________________________________\n",
      "conv2d_transpose (Conv2DTranspo (None, 56, 56, 512)  4719104     sequential_4[0][0]               \n",
      "__________________________________________________________________________________________________\n",
      "tf_op_layer_strided_slice (Tens [(None, 56, 56, 512) 0           sequential_3[0][0]               \n",
      "__________________________________________________________________________________________________\n",
      "concatenate (Concatenate)       (None, 56, 56, 1024) 0           conv2d_transpose[0][0]           \n",
      "                                                                 tf_op_layer_strided_slice[0][0]  \n",
      "__________________________________________________________________________________________________\n",
      "sequential_5 (Sequential)       (None, 52, 52, 512)  7078912     concatenate[0][0]                \n",
      "__________________________________________________________________________________________________\n",
      "conv2d_transpose_1 (Conv2DTrans (None, 104, 104, 256 1179904     sequential_5[0][0]               \n",
      "__________________________________________________________________________________________________\n",
      "tf_op_layer_strided_slice_1 (Te [(None, 104, 104, 25 0           sequential_2[0][0]               \n",
      "__________________________________________________________________________________________________\n",
      "concatenate_1 (Concatenate)     (None, 104, 104, 512 0           conv2d_transpose_1[0][0]         \n",
      "                                                                 tf_op_layer_strided_slice_1[0][0]\n",
      "__________________________________________________________________________________________________\n",
      "sequential_6 (Sequential)       (None, 100, 100, 256 1769984     concatenate_1[0][0]              \n",
      "__________________________________________________________________________________________________\n",
      "conv2d_transpose_2 (Conv2DTrans (None, 200, 200, 128 295040      sequential_6[0][0]               \n",
      "__________________________________________________________________________________________________\n",
      "tf_op_layer_strided_slice_2 (Te [(None, 200, 200, 12 0           sequential_1[0][0]               \n",
      "__________________________________________________________________________________________________\n",
      "concatenate_2 (Concatenate)     (None, 200, 200, 256 0           conv2d_transpose_2[0][0]         \n",
      "                                                                 tf_op_layer_strided_slice_2[0][0]\n",
      "__________________________________________________________________________________________________\n",
      "sequential_7 (Sequential)       (None, 196, 196, 128 442624      concatenate_2[0][0]              \n",
      "__________________________________________________________________________________________________\n",
      "conv2d_transpose_3 (Conv2DTrans (None, 392, 392, 64) 73792       sequential_7[0][0]               \n",
      "__________________________________________________________________________________________________\n",
      "tf_op_layer_strided_slice_3 (Te [(None, 392, 392, 64 0           sequential[0][0]                 \n",
      "__________________________________________________________________________________________________\n",
      "concatenate_3 (Concatenate)     (None, 392, 392, 128 0           conv2d_transpose_3[0][0]         \n",
      "                                                                 tf_op_layer_strided_slice_3[0][0]\n",
      "__________________________________________________________________________________________________\n",
      "sequential_8 (Sequential)       (None, 388, 388, 64) 110720      concatenate_3[0][0]              \n",
      "__________________________________________________________________________________________________\n",
      "conv2d_18 (Conv2D)              (None, 388, 388, 3)  195         sequential_8[0][0]               \n",
      "==================================================================================================\n",
      "Total params: 34,513,475\n",
      "Trainable params: 34,513,475\n",
      "Non-trainable params: 0\n",
      "__________________________________________________________________________________________________\n"
     ]
    }
   ],
   "source": [
    "model.summary()"
   ]
  },
  {
   "cell_type": "code",
   "execution_count": 9,
   "metadata": {
    "colab": {},
    "colab_type": "code",
    "collapsed": true,
    "id": "Pv6aeD2I_iKp"
   },
   "outputs": [
    {
     "name": "stdout",
     "output_type": "stream",
     "text": [
      "Failed to import pydot. You must install pydot and graphviz for `pydotprint` to work.\n"
     ]
    }
   ],
   "source": [
    "tf.keras.utils.plot_model(model, \"my_first_model.png\")\n"
   ]
  },
  {
   "cell_type": "code",
   "execution_count": null,
   "metadata": {},
   "outputs": [],
   "source": []
  }
 ],
 "metadata": {
  "accelerator": "GPU",
  "colab": {
   "collapsed_sections": [],
   "name": "unet_colab.ipynb",
   "provenance": []
  },
  "kernelspec": {
   "display_name": "Python 3",
   "language": "python",
   "name": "python3"
  },
  "language_info": {
   "codemirror_mode": {
    "name": "ipython",
    "version": 3
   },
   "file_extension": ".py",
   "mimetype": "text/x-python",
   "name": "python",
   "nbconvert_exporter": "python",
   "pygments_lexer": "ipython3",
   "version": "3.7.6"
  }
 },
 "nbformat": 4,
 "nbformat_minor": 1
}
